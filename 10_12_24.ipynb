{
 "cells": [
  {
   "cell_type": "markdown",
   "id": "2a4b4074-3a50-4b46-9447-72efdfb190b0",
   "metadata": {},
   "source": [
    "#### NUMPY ===> Numpy is a open- source library that is used for scientific calculations."
   ]
  },
  {
   "cell_type": "markdown",
   "id": "1f75c9c9-84d2-4238-b03b-3d172d838d67",
   "metadata": {},
   "source": [
    "#### Why we use numpy whenever we have list?\n",
    "1] Homogeneous data type\n",
    "\n",
    "2] ,memory less consume\n",
    "\n",
    "3] less time consume"
   ]
  },
  {
   "cell_type": "markdown",
   "id": "f47dcfee-f106-465b-9b74-be7108797c09",
   "metadata": {},
   "source": [
    "#### !pip install numpy"
   ]
  },
  {
   "cell_type": "code",
   "execution_count": 7,
   "id": "a5568a59-6ea2-4205-ac42-d1a7ef33b462",
   "metadata": {},
   "outputs": [],
   "source": [
    "import numpy as np"
   ]
  },
  {
   "cell_type": "code",
   "execution_count": 9,
   "id": "42f6bc78-e2f4-4ad5-998e-4bde5db4e3a0",
   "metadata": {},
   "outputs": [
    {
     "data": {
      "text/plain": [
       "list"
      ]
     },
     "execution_count": 9,
     "metadata": {},
     "output_type": "execute_result"
    }
   ],
   "source": [
    "a = [1,34,67,90]\n",
    "type(a)"
   ]
  },
  {
   "cell_type": "code",
   "execution_count": 13,
   "id": "cd20797d-6762-402f-9bb4-f90d7972fae6",
   "metadata": {},
   "outputs": [
    {
     "data": {
      "text/plain": [
       "array([ 1, 34, 67, 90])"
      ]
     },
     "execution_count": 13,
     "metadata": {},
     "output_type": "execute_result"
    }
   ],
   "source": [
    "b = np.array(a)\n",
    "b"
   ]
  },
  {
   "cell_type": "code",
   "execution_count": 15,
   "id": "8e43b4b4-4f61-4984-8d69-2c304837968f",
   "metadata": {},
   "outputs": [
    {
     "data": {
      "text/plain": [
       "numpy.ndarray"
      ]
     },
     "execution_count": 15,
     "metadata": {},
     "output_type": "execute_result"
    }
   ],
   "source": [
    "type(b)"
   ]
  },
  {
   "cell_type": "markdown",
   "id": "4bbdae05-28fb-49d8-b0fb-67527e11d8f9",
   "metadata": {},
   "source": [
    "### Dimension ==>\n",
    "\n",
    "1] 1-D ===> element exist in x-direction\n",
    "\n",
    "2] 2-D ===> element exist in x and y direction\n",
    "\n",
    "3] 3-D ===> element exist in x,y,z direction\n",
    "\n"
   ]
  },
  {
   "cell_type": "code",
   "execution_count": 20,
   "id": "fb41bd85-cff2-49a0-903d-fdf5d2ed3568",
   "metadata": {},
   "outputs": [
    {
     "name": "stdout",
     "output_type": "stream",
     "text": [
      "Total Shape: (4,)\n"
     ]
    }
   ],
   "source": [
    "print(\"Total Shape:\", b.shape)  ## shape = n(rows), n(columns)"
   ]
  },
  {
   "cell_type": "code",
   "execution_count": 26,
   "id": "c3eb9def-57bc-4233-8e26-9d77faeedbe4",
   "metadata": {},
   "outputs": [
    {
     "name": "stdout",
     "output_type": "stream",
     "text": [
      "Total elements: 4\n"
     ]
    }
   ],
   "source": [
    "print(\"Total elements:\", b.size) ## size = n(row)*n(column)"
   ]
  },
  {
   "cell_type": "code",
   "execution_count": 28,
   "id": "ed3cb6ec-f8d2-4d24-b7d1-3cde1a3678c1",
   "metadata": {},
   "outputs": [
    {
     "name": "stdout",
     "output_type": "stream",
     "text": [
      "Total elements: 1\n"
     ]
    }
   ],
   "source": [
    "print(\"Total elements:\", b.ndim) ## ndim is refer to dimension of array"
   ]
  },
  {
   "cell_type": "code",
   "execution_count": 30,
   "id": "961f03bc-78ad-443d-9930-6c6fa32c5fbe",
   "metadata": {},
   "outputs": [
    {
     "data": {
      "text/plain": [
       "[[1, 2, 3], [4, 5, 6], [7, 8, 9]]"
      ]
     },
     "execution_count": 30,
     "metadata": {},
     "output_type": "execute_result"
    }
   ],
   "source": [
    "a = [[1,2,3],[4,5,6],[7,8,9]]\n",
    "a"
   ]
  },
  {
   "cell_type": "code",
   "execution_count": 32,
   "id": "db054164-b519-4e74-b3f8-d03572f93745",
   "metadata": {},
   "outputs": [
    {
     "data": {
      "text/plain": [
       "array([[1, 2, 3],\n",
       "       [4, 5, 6],\n",
       "       [7, 8, 9]])"
      ]
     },
     "execution_count": 32,
     "metadata": {},
     "output_type": "execute_result"
    }
   ],
   "source": [
    "b = np.array(a)\n",
    "b"
   ]
  },
  {
   "cell_type": "code",
   "execution_count": 34,
   "id": "0653564d-539a-4bed-b36f-77f52761b0de",
   "metadata": {},
   "outputs": [
    {
     "data": {
      "text/plain": [
       "numpy.ndarray"
      ]
     },
     "execution_count": 34,
     "metadata": {},
     "output_type": "execute_result"
    }
   ],
   "source": [
    "type(b)"
   ]
  },
  {
   "cell_type": "code",
   "execution_count": 36,
   "id": "45a9f61a-2584-4eb2-8e72-098c7d3fa21a",
   "metadata": {},
   "outputs": [
    {
     "name": "stdout",
     "output_type": "stream",
     "text": [
      "Toatl rows and columns: (3, 3)\n",
      "Total element: 9\n",
      "Total dimension: 2\n"
     ]
    }
   ],
   "source": [
    "print(\"Toatl rows and columns:\", b.shape) ## shape = n(row), n(column)\n",
    "print(\"Total element:\", b.size) ## size = n(row) * n(column)\n",
    "print(\"Total dimension:\", b.ndim) ## ndim ==> dimension"
   ]
  },
  {
   "cell_type": "markdown",
   "id": "681b114c-5d89-43c1-9352-58699ab342a9",
   "metadata": {},
   "source": [
    "# How can we create a user defined Array ? "
   ]
  },
  {
   "cell_type": "code",
   "execution_count": 39,
   "id": "e07af3d0-d7e6-41e4-bdc9-fd009bfe534d",
   "metadata": {},
   "outputs": [
    {
     "name": "stdin",
     "output_type": "stream",
     "text": [
      "Enter size:  4\n",
      "Enter number:  12\n",
      "Enter number:  45\n",
      "Enter number:  56\n",
      "Enter number:  87\n"
     ]
    },
    {
     "data": {
      "text/plain": [
       "array([12, 45, 56, 87])"
      ]
     },
     "execution_count": 39,
     "metadata": {},
     "output_type": "execute_result"
    }
   ],
   "source": [
    "a = []\n",
    "size = int(input(\"Enter size: \"))\n",
    "for i in range(size):\n",
    "    val = int(input(\"Enter number: \"))\n",
    "    a.append(val)\n",
    "b = np.array(a)\n",
    "b"
   ]
  },
  {
   "cell_type": "markdown",
   "id": "f0484b66-f4a7-4491-99eb-c3976ba05c93",
   "metadata": {},
   "source": [
    "# Numpy Function\n"
   ]
  },
  {
   "cell_type": "markdown",
   "id": "318f293c-3ec8-43e7-addf-3f481deab45e",
   "metadata": {},
   "source": [
    "Images ===> Pixels(0-255)px ===> 0px(black), 255px(white) ===> Normalize ===> (0-1)px\n",
    "\n",
    "- black & white ht, image ===> height, width\n",
    "- colorfull image ===> height, width, color_channel(red, green, blue)\n",
    "\n",
    "Matrix ===> n(rows) = n(columns) ===> symmatric matrix, n(r)! = n(c) ===> asymmatric matrix\n",
    "\n",
    "Random Number generation ===> random module\n",
    "\n",
    "Data science ===> simple line equation = y = mx + b  (x,y) = co-ordinates, m= weight, b = intercept \n",
    "\n",
    "Matrix ===> row, column\n",
    "\n",
    "Matrix ===> diagonal positional element = [(1,1),(2,2),(3,3),......(n,n)]"
   ]
  },
  {
   "cell_type": "markdown",
   "id": "1760c1fa-fe75-4ff6-90b7-06f7ebf91356",
   "metadata": {},
   "source": [
    "# 1) zeros() ===> It will create an array in which all the values are 0"
   ]
  },
  {
   "cell_type": "code",
   "execution_count": 46,
   "id": "775f8205-53b9-457f-8dd4-bbc58617c6c4",
   "metadata": {},
   "outputs": [
    {
     "data": {
      "text/plain": [
       "array([0., 0., 0.])"
      ]
     },
     "execution_count": 46,
     "metadata": {},
     "output_type": "execute_result"
    }
   ],
   "source": [
    "a = np.zeros(3)\n",
    "a"
   ]
  },
  {
   "cell_type": "code",
   "execution_count": 50,
   "id": "35d2af0a-e8e3-4b4f-86da-1f129ee752ec",
   "metadata": {},
   "outputs": [
    {
     "data": {
      "text/plain": [
       "array([[0., 0., 0.],\n",
       "       [0., 0., 0.]])"
      ]
     },
     "execution_count": 50,
     "metadata": {},
     "output_type": "execute_result"
    }
   ],
   "source": [
    "a = np.zeros((2,3))\n",
    "a"
   ]
  },
  {
   "cell_type": "markdown",
   "id": "749c3c04-d6fc-44d8-a41b-aabf4cad5be2",
   "metadata": {},
   "source": [
    "# 2) ones() ===> It will create an array in which all the values are 1"
   ]
  },
  {
   "cell_type": "code",
   "execution_count": 54,
   "id": "f5d43f44-c069-441e-b6a6-1733081e74b7",
   "metadata": {},
   "outputs": [
    {
     "data": {
      "text/plain": [
       "array([1., 1., 1.])"
      ]
     },
     "execution_count": 54,
     "metadata": {},
     "output_type": "execute_result"
    }
   ],
   "source": [
    "a = np.ones(3)\n",
    "a"
   ]
  },
  {
   "cell_type": "code",
   "execution_count": 58,
   "id": "3ba85b14-e4e1-4d8a-ab3b-7478656a78de",
   "metadata": {},
   "outputs": [
    {
     "data": {
      "text/plain": [
       "array([[1., 1., 1., 1.],\n",
       "       [1., 1., 1., 1.],\n",
       "       [1., 1., 1., 1.]])"
      ]
     },
     "execution_count": 58,
     "metadata": {},
     "output_type": "execute_result"
    }
   ],
   "source": [
    "a = np.ones((3,4))\n",
    "a"
   ]
  },
  {
   "cell_type": "code",
   "execution_count": 60,
   "id": "d2ae2bc0-d885-4b28-a931-fd4fa8bdcc41",
   "metadata": {},
   "outputs": [
    {
     "data": {
      "text/plain": [
       "(3, 4)"
      ]
     },
     "execution_count": 60,
     "metadata": {},
     "output_type": "execute_result"
    }
   ],
   "source": [
    "a.shape"
   ]
  },
  {
   "cell_type": "markdown",
   "id": "a673de74-7b4b-434c-b66e-b41ff1835c25",
   "metadata": {},
   "source": [
    "# 3) eye() ===> It will create an array in which diagonal positional elements are 1 and rest all are 0."
   ]
  },
  {
   "cell_type": "code",
   "execution_count": 72,
   "id": "4b2b7882-f2e3-4813-8b05-1c8b6b6bf46f",
   "metadata": {},
   "outputs": [
    {
     "data": {
      "text/plain": [
       "array([[1., 0., 0.],\n",
       "       [0., 1., 0.],\n",
       "       [0., 0., 1.]])"
      ]
     },
     "execution_count": 72,
     "metadata": {},
     "output_type": "execute_result"
    }
   ],
   "source": [
    "a = np.eye(3)  ## Symmatric matrix\n",
    "a"
   ]
  },
  {
   "cell_type": "code",
   "execution_count": 74,
   "id": "94979bd3-9a54-43a1-bce1-2b0861bfbb0f",
   "metadata": {},
   "outputs": [
    {
     "data": {
      "text/plain": [
       "array([[1., 0., 0., 0.],\n",
       "       [0., 1., 0., 0.],\n",
       "       [0., 0., 1., 0.]])"
      ]
     },
     "execution_count": 74,
     "metadata": {},
     "output_type": "execute_result"
    }
   ],
   "source": [
    "a = np.eye(3,4) ## Asymmatric matrix\n",
    "a"
   ]
  },
  {
   "cell_type": "markdown",
   "id": "610a2015-6949-4a9f-8ab8-3ee9cc77207f",
   "metadata": {},
   "source": [
    "# 4) diag() ===> It will create an array in which we can customize our diagonal positional elements "
   ]
  },
  {
   "cell_type": "code",
   "execution_count": 79,
   "id": "49263565-623f-486f-9791-5eee2ded7ddf",
   "metadata": {},
   "outputs": [
    {
     "data": {
      "text/plain": [
       "array([[  1,   0,   0,   0],\n",
       "       [  0,  56,   0,   0],\n",
       "       [  0,   0,  89,   0],\n",
       "       [  0,   0,   0, 700]])"
      ]
     },
     "execution_count": 79,
     "metadata": {},
     "output_type": "execute_result"
    }
   ],
   "source": [
    "a = np.diag([1,56,89,700])\n",
    "a"
   ]
  },
  {
   "cell_type": "markdown",
   "id": "afa26efc-627d-4c87-b582-5f4d9cf2e188",
   "metadata": {},
   "source": [
    "# 5) Random Module ===> \n",
    "\n",
    "a] OTP generation\n",
    "\n",
    "b] Dataset ===> 1 dummy coulumn add\n",
    "\n",
    "c] randomly weights initialize\n",
    "\n"
   ]
  },
  {
   "cell_type": "markdown",
   "id": "4028ae93-8a09-45b5-a02f-54db03000655",
   "metadata": {},
   "source": [
    "### a) Randint (min_number , max_number, total_numbers)\n"
   ]
  },
  {
   "cell_type": "code",
   "execution_count": 86,
   "id": "6261e427-64b0-4b71-80b8-b85681d6c077",
   "metadata": {},
   "outputs": [
    {
     "data": {
      "text/plain": [
       "array([1, 4, 1])"
      ]
     },
     "execution_count": 86,
     "metadata": {},
     "output_type": "execute_result"
    }
   ],
   "source": [
    "a = np.random.randint(1,10,3)\n",
    "a"
   ]
  },
  {
   "cell_type": "markdown",
   "id": "d270f40b-d36e-41db-9ad4-9f0eb03da4ca",
   "metadata": {},
   "source": [
    "### b) Rand(total_numbers) ===> it will return numbers from 0 to 1"
   ]
  },
  {
   "cell_type": "code",
   "execution_count": 94,
   "id": "4825ef1f-b067-45a5-858f-9dd4e4ca86dd",
   "metadata": {},
   "outputs": [
    {
     "data": {
      "text/plain": [
       "array([0.8415915 , 0.11784927, 0.95270944, 0.45161758, 0.18939996])"
      ]
     },
     "execution_count": 94,
     "metadata": {},
     "output_type": "execute_result"
    }
   ],
   "source": [
    "a = np.random.rand(5)\n",
    "a"
   ]
  },
  {
   "cell_type": "markdown",
   "id": "0d05fdfc-cc08-4e8b-be92-c437a25f1e21",
   "metadata": {},
   "source": [
    "### c) Randn() ===> -3 to +3\n"
   ]
  },
  {
   "cell_type": "code",
   "execution_count": 97,
   "id": "129da4a7-d935-4408-b681-ebce145c5910",
   "metadata": {},
   "outputs": [
    {
     "data": {
      "text/plain": [
       "array([ 0.88166464,  1.34455891, -0.08909688,  0.97565665, -2.45371732])"
      ]
     },
     "execution_count": 97,
     "metadata": {},
     "output_type": "execute_result"
    }
   ],
   "source": [
    "a = np.random.randn(5)\n",
    "a"
   ]
  },
  {
   "cell_type": "markdown",
   "id": "6e2ff5c8-41ce-4a4d-80ae-43a3c7998154",
   "metadata": {},
   "source": [
    "### d) seed() ===> It will fix our data once the data has been generated."
   ]
  },
  {
   "cell_type": "code",
   "execution_count": 101,
   "id": "b944ac63-36b1-49b9-a54e-237318d4fbb8",
   "metadata": {},
   "outputs": [
    {
     "data": {
      "text/plain": [
       "array([4, 5, 7])"
      ]
     },
     "execution_count": 101,
     "metadata": {},
     "output_type": "execute_result"
    }
   ],
   "source": [
    "np.random.seed(20)\n",
    "a = np.random.randint(1,10,3)\n",
    "a"
   ]
  },
  {
   "cell_type": "code",
   "execution_count": null,
   "id": "4ef000d5-e675-43dc-b883-16ef662ab617",
   "metadata": {},
   "outputs": [],
   "source": []
  }
 ],
 "metadata": {
  "kernelspec": {
   "display_name": "Python 3 (ipykernel)",
   "language": "python",
   "name": "python3"
  },
  "language_info": {
   "codemirror_mode": {
    "name": "ipython",
    "version": 3
   },
   "file_extension": ".py",
   "mimetype": "text/x-python",
   "name": "python",
   "nbconvert_exporter": "python",
   "pygments_lexer": "ipython3",
   "version": "3.12.4"
  }
 },
 "nbformat": 4,
 "nbformat_minor": 5
}
