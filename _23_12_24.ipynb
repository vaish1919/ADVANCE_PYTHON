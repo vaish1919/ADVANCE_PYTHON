{
 "cells": [
  {
   "cell_type": "code",
   "execution_count": null,
   "id": "724b16fc-95f7-4bca-b39b-f666b95fa058",
   "metadata": {},
   "outputs": [],
   "source": [
    "# Data Analyst \n",
    "\n",
    "# Software company ==> zepto ==> 1 product purchase ==> reviews, ratings(delivery boy, product)\n",
    "# ==> product track (positive, negative, neutral), delivery(reviews) ==> \n",
    "\n",
    "# OTT platform ()"
   ]
  }
 ],
 "metadata": {
  "kernelspec": {
   "display_name": "Python 3 (ipykernel)",
   "language": "python",
   "name": "python3"
  },
  "language_info": {
   "codemirror_mode": {
    "name": "ipython",
    "version": 3
   },
   "file_extension": ".py",
   "mimetype": "text/x-python",
   "name": "python",
   "nbconvert_exporter": "python",
   "pygments_lexer": "ipython3",
   "version": "3.12.4"
  }
 },
 "nbformat": 4,
 "nbformat_minor": 5
}
